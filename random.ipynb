{
 "cells": [
  {
   "cell_type": "code",
   "execution_count": 1,
   "id": "7865a9b7-d9fd-450f-89b9-dd035da45c6c",
   "metadata": {},
   "outputs": [],
   "source": [
    "import random"
   ]
  },
  {
   "cell_type": "markdown",
   "id": "45d34001-5942-49e3-9a6a-9563596f8b08",
   "metadata": {},
   "source": [
    "### random function : this generate floating value b/w 0 and 1. 0 is included, but 1 is not."
   ]
  },
  {
   "cell_type": "code",
   "execution_count": 2,
   "id": "32ec0898-ea30-4ff7-9e85-427111cddeb3",
   "metadata": {},
   "outputs": [
    {
     "data": {
      "text/plain": [
       "0.2984565866522201"
      ]
     },
     "execution_count": 2,
     "metadata": {},
     "output_type": "execute_result"
    }
   ],
   "source": [
    "random.random()"
   ]
  },
  {
   "cell_type": "markdown",
   "id": "fb1a6890-4594-4121-8f13-a5052eb93307",
   "metadata": {},
   "source": [
    "### randrange function : this will generate integer value b/w lower and upper limit. upper limit is excluded"
   ]
  },
  {
   "cell_type": "code",
   "execution_count": 5,
   "id": "e52ad1c5-c8ab-43a8-9d87-e621975d731b",
   "metadata": {},
   "outputs": [
    {
     "data": {
      "text/plain": [
       "8"
      ]
     },
     "execution_count": 5,
     "metadata": {},
     "output_type": "execute_result"
    }
   ],
   "source": [
    "random.randrange(1,10)"
   ]
  },
  {
   "cell_type": "code",
   "execution_count": 7,
   "id": "80e9a546-3144-411f-9790-ba6a3ce3527b",
   "metadata": {},
   "outputs": [
    {
     "data": {
      "text/plain": [
       "35"
      ]
     },
     "execution_count": 7,
     "metadata": {},
     "output_type": "execute_result"
    }
   ],
   "source": [
    "random.randrange(20, 100, 5) #It also takes steps like python range function. It basically prepares list of eligible elements and emit one of them."
   ]
  },
  {
   "cell_type": "code",
   "execution_count": 8,
   "id": "816b0942-a54a-48ea-8b41-126e3f734a24",
   "metadata": {},
   "outputs": [
    {
     "data": {
      "text/plain": [
       "13"
      ]
     },
     "execution_count": 8,
     "metadata": {},
     "output_type": "execute_result"
    }
   ],
   "source": [
    "random.randrange(20)"
   ]
  },
  {
   "cell_type": "code",
   "execution_count": 16,
   "id": "52071842-62c1-48b7-bb08-e68f9f850e60",
   "metadata": {},
   "outputs": [
    {
     "data": {
      "text/plain": [
       "6"
      ]
     },
     "execution_count": 16,
     "metadata": {},
     "output_type": "execute_result"
    }
   ],
   "source": [
    "random.randrange(6,2, -1)"
   ]
  },
  {
   "cell_type": "markdown",
   "id": "42e0812b-a638-47e4-afd1-fd03575bd122",
   "metadata": {},
   "source": [
    "### randint function : this function returns any integers number b/w lower and upper limit. upper limit is included."
   ]
  },
  {
   "cell_type": "code",
   "execution_count": 17,
   "id": "c5fa221c-b5f9-4a5e-8b90-3cfe6ce2a153",
   "metadata": {},
   "outputs": [
    {
     "data": {
      "text/plain": [
       "15"
      ]
     },
     "execution_count": 17,
     "metadata": {},
     "output_type": "execute_result"
    }
   ],
   "source": [
    "random.randint(10,20)"
   ]
  },
  {
   "cell_type": "code",
   "execution_count": 19,
   "id": "b3840e2f-0456-4efb-b16d-a734538cc832",
   "metadata": {},
   "outputs": [
    {
     "data": {
      "text/plain": [
       "5"
      ]
     },
     "execution_count": 19,
     "metadata": {},
     "output_type": "execute_result"
    }
   ],
   "source": [
    "random.randint(5,5)"
   ]
  },
  {
   "cell_type": "markdown",
   "id": "0cdcacf1-f2bf-452d-b0a6-1fca0cc15573",
   "metadata": {},
   "source": [
    "### uniform function : generate decimal value b/w given input values [a,b). b could be included or excluded depending upon rounding. "
   ]
  },
  {
   "cell_type": "code",
   "execution_count": 20,
   "id": "0e7a4e10-2880-45fc-a297-6a992524d661",
   "metadata": {},
   "outputs": [
    {
     "data": {
      "text/plain": [
       "7.320838258100055"
      ]
     },
     "execution_count": 20,
     "metadata": {},
     "output_type": "execute_result"
    }
   ],
   "source": [
    "random.uniform(10,5)"
   ]
  },
  {
   "cell_type": "code",
   "execution_count": 21,
   "id": "3c6fcb13-4aa6-4324-adc8-3f0e66e75020",
   "metadata": {},
   "outputs": [
    {
     "data": {
      "text/plain": [
       "1.6617928239333466"
      ]
     },
     "execution_count": 21,
     "metadata": {},
     "output_type": "execute_result"
    }
   ],
   "source": [
    "random.uniform(1,2)"
   ]
  },
  {
   "cell_type": "markdown",
   "id": "9c4e384f-5091-4ba5-8fcc-85adf9b6c538",
   "metadata": {},
   "source": [
    "### choice function : select an element randomly from list, tuple, string or any other sequence. The values will be repeated"
   ]
  },
  {
   "cell_type": "code",
   "execution_count": 29,
   "id": "e0740a72-b3bf-4dc2-9e0b-7e4b358fefd8",
   "metadata": {},
   "outputs": [
    {
     "data": {
      "text/plain": [
       "'white'"
      ]
     },
     "execution_count": 29,
     "metadata": {},
     "output_type": "execute_result"
    }
   ],
   "source": [
    "colors = [\"black\", \"blue\", \"green\",\"orange\", \"white\"]\n",
    "random.choice(colors)"
   ]
  },
  {
   "cell_type": "markdown",
   "id": "6c67edd6-f26f-4986-b62b-7b4cd9c77786",
   "metadata": {},
   "source": [
    "### shuffle function: shuffles the items of the given list in place."
   ]
  },
  {
   "cell_type": "code",
   "execution_count": 31,
   "id": "bb872bf6-942f-4f13-827c-fa70e078fbc2",
   "metadata": {},
   "outputs": [
    {
     "data": {
      "text/plain": [
       "['white', 'green', 'black', 'orange', 'blue']"
      ]
     },
     "execution_count": 31,
     "metadata": {},
     "output_type": "execute_result"
    }
   ],
   "source": [
    "colors = [\"black\", \"blue\", \"green\",\"orange\", \"white\"]\n",
    "random.shuffle(colors)\n",
    "colors"
   ]
  }
 ],
 "metadata": {
  "kernelspec": {
   "display_name": "Python 3 (ipykernel)",
   "language": "python",
   "name": "python3"
  },
  "language_info": {
   "codemirror_mode": {
    "name": "ipython",
    "version": 3
   },
   "file_extension": ".py",
   "mimetype": "text/x-python",
   "name": "python",
   "nbconvert_exporter": "python",
   "pygments_lexer": "ipython3",
   "version": "3.8.18"
  }
 },
 "nbformat": 4,
 "nbformat_minor": 5
}
