{
 "cells": [
  {
   "cell_type": "markdown",
   "id": "ab8c829e-a656-4be5-ad6f-2a74434697b3",
   "metadata": {},
   "source": [
    "### why numpy is required\n"
   ]
  },
  {
   "cell_type": "code",
   "execution_count": 2,
   "id": "ee65c320-d117-464f-bcb4-3307d4da51ef",
   "metadata": {},
   "outputs": [],
   "source": [
    "# As a part of data science, machine learning and deep learning, it is very common requirement to perform complex mathematical operation as given below\n",
    "# 1.creation of Array and Matrices\n",
    "# 2.perform several operation on Array and Matrices\n",
    "# 3.perform integral calculas operation\n",
    "# 4.sloving differntial equation\n",
    "# 4.Statitic realted operation\n",
    "\n",
    "# To perform a complex opeartion an in-built library is not present in core python.\n"
   ]
  },
  {
   "cell_type": "markdown",
   "id": "139f7b0a-d729-41e9-92ac-60f9a0618110",
   "metadata": {},
   "source": [
    "### what are the features of numpy"
   ]
  },
  {
   "cell_type": "code",
   "execution_count": 3,
   "id": "461842d8-681d-48c2-8d22-bfc880dca1cf",
   "metadata": {},
   "outputs": [],
   "source": [
    "# Numpy is superfast as it is written in python\n",
    "# Numpy acts as a backbone for various data science libraray  like pandas, scikit-learn etc.\n",
    "# pandas internelly use nd-array(numpy core data structure) to store data in dataframes\n",
    "# numpy has vectarization features which improves performance while iterating elements    "
   ]
  },
  {
   "cell_type": "markdown",
   "id": "8416b5a8-33cd-490a-9a8c-ba392c2332c2",
   "metadata": {},
   "source": [
    "### what is nd-array ?"
   ]
  },
  {
   "cell_type": "code",
   "execution_count": 7,
   "id": "5e57e40d-0468-4f29-b820-1edf0c7fcab2",
   "metadata": {},
   "outputs": [],
   "source": [
    "# nd-array is numpy data structure which is used to hold data\n",
    "# nd-array -> N-Dimensional Array or NumpyArray\n",
    "# This data structure is most commmenly used in data scince library like pandas, scikit-learn etc.\n",
    "# nd-array is index collection of homogeneous elements.\n",
    "# numpy library contains lots of function to create nd-array\n",
    "# 1-D array is knows as Vector.\n",
    "# 2-D array is knows as Matrix."
   ]
  },
  {
   "cell_type": "markdown",
   "id": "cb587bc3-4764-44a6-8766-c16e9ee7ddd5",
   "metadata": {},
   "source": [
    "### topics covered as part of numpy course"
   ]
  },
  {
   "cell_type": "code",
   "execution_count": 6,
   "id": "adeac931-52b2-4b4f-8d88-b6d298268513",
   "metadata": {},
   "outputs": [],
   "source": [
    "# creation of numpy array\n",
    "# Array Operation\n",
    "# Array Attributes\n",
    "# Array Indexing and Slicing\n",
    "# Brodcasting\n",
    "# Iterating Over Array\n",
    "# Binary Condition\n",
    "# Copy and View Operation\n",
    "# Sort and Search\n",
    "# Statistics Related function\n",
    "# Linear Algebra Functions"
   ]
  },
  {
   "cell_type": "markdown",
   "id": "5e4fb7d8-589b-4f5e-9748-bc00bf9f78b0",
   "metadata": {},
   "source": [
    "### similarities b/w python list and numpy array"
   ]
  },
  {
   "cell_type": "code",
   "execution_count": 8,
   "id": "0ad145c8-8b82-4a13-91bc-5777942f2a18",
   "metadata": {},
   "outputs": [],
   "source": [
    "# Both can be used to store data\n",
    "# The order is preserved in both type, hence we can use index to access data\n",
    "# Slicing is also applicable for both\n",
    "# Both are mutable, i.e once we create list or Array we can change its elements."
   ]
  },
  {
   "cell_type": "markdown",
   "id": "311c8cf9-0f91-45b7-9577-154170796919",
   "metadata": {},
   "source": [
    "### Differnces b/w Python List and Numpy Array"
   ]
  },
  {
   "cell_type": "markdown",
   "id": "2b298be6-dc9a-4975-b097-814783af9247",
   "metadata": {},
   "source": []
  },
  {
   "cell_type": "code",
   "execution_count": 20,
   "id": "399cf3b0-6108-4e84-8c6c-689453c07f98",
   "metadata": {},
   "outputs": [],
   "source": [
    "# list is inbuilt data type but numpy array is not\n",
    "# List can hold hetrogeneous elements but numpy array can hold only homogeneous elements\n",
    "# colors = [\"black\", \"blue\", 1234, 678, 'C'], arr = np.array([1,2,3,4,5])\n",
    "# On Array, vector operations can be performed (Operation which can be performed on every element of array), same can't be done for list elements.\n",
    "# Array consumes less memory when compared with python list.\n",
    "# Array are superfast in comparision with List"
   ]
  },
  {
   "cell_type": "markdown",
   "id": "c6d64540-3060-41fb-990b-644012d5857d",
   "metadata": {},
   "source": [
    "### Examples of vector operations"
   ]
  },
  {
   "cell_type": "code",
   "execution_count": 14,
   "id": "743adb96-f4f4-42d3-9834-700f9d0a4f5c",
   "metadata": {},
   "outputs": [
    {
     "data": {
      "text/plain": [
       "array([10, 20, 30, 40])"
      ]
     },
     "execution_count": 14,
     "metadata": {},
     "output_type": "execute_result"
    }
   ],
   "source": [
    "import numpy as np\n",
    "a = np.array([10,20,30,40])\n",
    "b = [10,20,30,40]\n",
    "a"
   ]
  },
  {
   "cell_type": "code",
   "execution_count": 10,
   "id": "4cd3be90-1f1e-413e-bdbf-7dfa4bc497c9",
   "metadata": {},
   "outputs": [
    {
     "data": {
      "text/plain": [
       "numpy.ndarray"
      ]
     },
     "execution_count": 10,
     "metadata": {},
     "output_type": "execute_result"
    }
   ],
   "source": [
    "type(a)"
   ]
  },
  {
   "cell_type": "code",
   "execution_count": 11,
   "id": "fa003981-1635-408a-9da1-6ea3f352c60c",
   "metadata": {},
   "outputs": [
    {
     "data": {
      "text/plain": [
       "array([11, 21, 31, 41])"
      ]
     },
     "execution_count": 11,
     "metadata": {},
     "output_type": "execute_result"
    }
   ],
   "source": [
    "a+1"
   ]
  },
  {
   "cell_type": "code",
   "execution_count": 12,
   "id": "63b7dadb-0eaa-4c81-8790-13ab90d7827c",
   "metadata": {},
   "outputs": [
    {
     "data": {
      "text/plain": [
       "array([20, 40, 60, 80])"
      ]
     },
     "execution_count": 12,
     "metadata": {},
     "output_type": "execute_result"
    }
   ],
   "source": [
    "a*2"
   ]
  },
  {
   "cell_type": "code",
   "execution_count": 13,
   "id": "3cd8181c-4116-49fe-9f8b-224d1455f359",
   "metadata": {},
   "outputs": [
    {
     "data": {
      "text/plain": [
       "array([ 5., 10., 15., 20.])"
      ]
     },
     "execution_count": 13,
     "metadata": {},
     "output_type": "execute_result"
    }
   ],
   "source": [
    "a/2"
   ]
  },
  {
   "cell_type": "code",
   "execution_count": 15,
   "id": "c69e0cf8-202f-4672-8755-88eafbc5a896",
   "metadata": {},
   "outputs": [
    {
     "ename": "TypeError",
     "evalue": "can only concatenate list (not \"int\") to list",
     "output_type": "error",
     "traceback": [
      "\u001b[1;31m---------------------------------------------------------------------------\u001b[0m",
      "\u001b[1;31mTypeError\u001b[0m                                 Traceback (most recent call last)",
      "Cell \u001b[1;32mIn[15], line 1\u001b[0m\n\u001b[1;32m----> 1\u001b[0m \u001b[43mb\u001b[49m\u001b[38;5;241;43m+\u001b[39;49m\u001b[38;5;241;43m1\u001b[39;49m\n",
      "\u001b[1;31mTypeError\u001b[0m: can only concatenate list (not \"int\") to list"
     ]
    }
   ],
   "source": [
    "b+1"
   ]
  },
  {
   "cell_type": "code",
   "execution_count": 16,
   "id": "b24113c0-c36d-4414-a2f5-cf539750ff35",
   "metadata": {},
   "outputs": [
    {
     "data": {
      "text/plain": [
       "[10, 20, 30, 40, 10, 20, 30, 40]"
      ]
     },
     "execution_count": 16,
     "metadata": {},
     "output_type": "execute_result"
    }
   ],
   "source": [
    "b*2"
   ]
  },
  {
   "cell_type": "markdown",
   "id": "a2c926ce-eb6f-43ea-bc9a-c2ff071e5e1b",
   "metadata": {},
   "source": [
    "### Examples of size comparisions"
   ]
  },
  {
   "cell_type": "code",
   "execution_count": 19,
   "id": "c90c0087-1f78-4386-a7a7-73de08b29309",
   "metadata": {},
   "outputs": [
    {
     "name": "stdout",
     "output_type": "stream",
     "text": [
      "172\n",
      "176\n"
     ]
    }
   ],
   "source": [
    "import sys\n",
    "a = np.array([10,20,30,40,50,60,70,80,90,100,110,120,130,140, 150])\n",
    "b= [10,20,30,40,50,60,70,80,90,100,110,120,130,140, 150]\n",
    "print(sys.getsizeof(a))\n",
    "print(sys.getsizeof(b))"
   ]
  }
 ],
 "metadata": {
  "kernelspec": {
   "display_name": "Python 3 (ipykernel)",
   "language": "python",
   "name": "python3"
  },
  "language_info": {
   "codemirror_mode": {
    "name": "ipython",
    "version": 3
   },
   "file_extension": ".py",
   "mimetype": "text/x-python",
   "name": "python",
   "nbconvert_exporter": "python",
   "pygments_lexer": "ipython3",
   "version": "3.8.18"
  }
 },
 "nbformat": 4,
 "nbformat_minor": 5
}
